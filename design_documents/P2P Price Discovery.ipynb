{
 "cells": [
  {
   "cell_type": "markdown",
   "id": "98ee6531-b18d-4bbf-9d0e-02f88117c57c",
   "metadata": {},
   "source": [
    "# Price Discovery in Peer to Peer Networks\n",
    "\n",
    "Price discovery is the process of revealing and aggregating disaggregated private information via bargaining. Centralized markets such as the Double Auction are known to do price discovery extremely well in non-durable goods markets but less well in durable goods markets where re-trading can lead to speculation and the formation of price bubbles.\n",
    "\n",
    "In this research project we are interested in studying price discovery on a blockchain, which is a distributed institution with rules designed to maintain a system of transactions, including payments in a native currency/token. Transaction histories are maintained as a blockchain ledger at each node and new transactions enter as additions to subsequent blocks from the block proposer's mempool. Consensus is reached eventually, upon which transaction information is reconciled. Payments between users of a blockchain using this transaction system represent a fully decentralized system of exchange. We refer to this exchange market as the peer-to-peer (P2P) market.\n",
    "\n",
    "In addition to the a basic transaction system, many blockchains allow *smart contracts* which are hybrid of distributed and centralized exchange institutions. *Smart contracts* are computer programs which run on the blockchain, being executed as part of block proposal, and whose states are maintained at each node as part of the blockchain ledger. They are decentralized, in the sense that agents can interact with any node to interact with the smart contract, but they are centralized in the sense that their state is maintained identically across all nodes. Automated Market Makers (AMMs) are a special type of smart contract which allows one to trade tokens on a blockchain, allowing an exchange between two tokens without the need for matching with a counterparty. Additionally, AMMs have a defined price schedule, provided by an exchange function, and a potential trade volume, provided by the liquidity depth.\n",
    "\n",
    "We are interested in comparing price discovery in pure P2P and AMM markets, as well as combination markets, where users can access both markets."
   ]
  },
  {
   "cell_type": "markdown",
   "id": "3f653a40-f5f3-43b7-b3d5-e6db6fa013e8",
   "metadata": {},
   "source": [
    "## Treatments\n",
    "\n",
    "1. One dimension of treatment will be the access to trading institutions. Individuals will either have access to the P2P trading system, the AMM trading system, or both (three treatments).\n",
    "\n",
    "2. Another dimension of treatment will be the valuation of V, the durable asset. In one treatment, V will have a stable valuation over the entire time period, and in the second treatment V will change from \n",
    "\n",
    "1. One of our treatments will compare price discovery in the P2P payment system where agents write simple smart-contracts the serve as offers to buy and sell from one another, compared to a AMM market.  So for example, in the P2P system an agent may offer to buy 20 tokens at a price of .085 USDC in a smart contract with the USDC locked for the duration of the offer.  Another agent may except the offer by lockcing in the tokens, creating the condition for the contract to execute on the blockchain.  AMMs serve as distiributed centralized institutions where liquidity providers provide tokens and USDC to the AMM in return for a share of transaction fees and liquidity tokens which can be redemmed at a later date.  Agents the trade with the AMM which uses a pricing rule to determine currrent trading prices.\n",
    "3. A third treatment \n",
    "Other treatments will be discussed in class."
   ]
  },
  {
   "cell_type": "markdown",
   "id": "c248bba3-3f6d-422a-9a77-f285c9691a5c",
   "metadata": {},
   "source": [
    "## Microeconomic System for our Experiment\n",
    "\n",
    "We will divide our discussion of the Microeconomic System into the enviornment and the institutions. "
   ]
  },
  {
   "cell_type": "markdown",
   "id": "0eced0ed-2a11-45ae-b6e2-25611a75da7e",
   "metadata": {},
   "source": [
    "### The Enviornment\n",
    "\n",
    "The Environment consists of the Agents, the Assets, the Nodes in the system and the Consensus Protocol.  \n",
    "\n",
    "Agents, k, own and operate nodes.  To keep the experiment simple all of these nodes are full nodes with equal stakes in the proof of stake mining protocol.  What this means is that each time interval, with equal probability, the agents node will be chosen to mine a block and the agents account will be rewarded.  A block is a collection of transacrtions from the agents mempool.  For now we auume no congestion meaning the mempool is cleared. \n",
    "\n",
    "Agents own assets.  There are four kinds of assets in the market.  (1) Native Tokens, (2) USDC (wrapped dollars), (3) Mining Tokens, (4) Liquidity Tokens.  Agents wallets show their currrent asset holdings and allows agents to make transactions.\n",
    "\n",
    "Agents have a utility function U(m) which increases in US currency m.  At the end of the experiment Liquidiy Tokens are redemmed from the liquidity pool and the agent USDC is converted to m1. All of the Native Tokens are converted to m2 at the exchange value V.  The agent then earns utility U(m1 + m2).\n",
    "\n",
    "Agents have private about V consisting of a draw vks in `[V-x, V+x]`, where s denotes some interval in multiples of blocks.  Agents have public information which is the ledger transactions, and semi-public information which is the offers made in their mempool.  For now we assume the whisper network is very quick and everyone's mempool is the same.\n",
    "\n",
    "An experimentsimulation begins by initializing the enviornment and then allow trading theorugh the agents wallets."
   ]
  },
  {
   "cell_type": "markdown",
   "id": "b4a1889d-c685-4ac7-9562-d08d7c61a156",
   "metadata": {},
   "source": [
    "### Institutions\n",
    "\n",
    "A P2P instituion is a smart contract which allows a buy or sell offer of the form ('BUY', n, p, d, c) where n is the number of Native Tokens being bought, p is the price per token the buyer is willing to pay, d is the expiration date expressed as a future block number, and c is a condition of trade which is either c = partial, or full, where partial allows partial fulfillment.  The buyer signs and submits the contract as a transaction together with a  p*n USDC payment transaction to the smart-contract account, and a payment g to the blockchain account in the Native Token for gas fees.   "
   ]
  },
  {
   "cell_type": "code",
   "execution_count": null,
   "id": "892945b7-1637-4b1d-ab38-819525fdb42f",
   "metadata": {},
   "outputs": [],
   "source": [
    " "
   ]
  }
 ],
 "metadata": {
  "kernelspec": {
   "display_name": "Python 3 (ipykernel)",
   "language": "python",
   "name": "python3"
  },
  "language_info": {
   "codemirror_mode": {
    "name": "ipython",
    "version": 3
   },
   "file_extension": ".py",
   "mimetype": "text/x-python",
   "name": "python",
   "nbconvert_exporter": "python",
   "pygments_lexer": "ipython3",
   "version": "3.11.5"
  }
 },
 "nbformat": 4,
 "nbformat_minor": 5
}
