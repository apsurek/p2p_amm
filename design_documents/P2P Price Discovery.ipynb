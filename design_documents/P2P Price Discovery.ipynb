{
 "cells": [
  {
   "cell_type": "markdown",
   "id": "98ee6531-b18d-4bbf-9d0e-02f88117c57c",
   "metadata": {},
   "source": [
    "# Price Discovery in Peer-to-Peer Networks\n",
    "\n",
    "Price discovery is the process of revealing and aggregating private information via bargaining. Centralized markets such as the Double Auction are known to do price discovery extremely well in non-durable goods markets, but less well in durable goods markets, where re-trading can lead to speculation and the formation of price bubbles.\n",
    "\n",
    "In this research project, we are interested in studying price discovery on a blockchain, a distributed system with rules designed to maintain a network of transactions, including payments in a native currency or token. Transaction histories are maintained as a blockchain ledger at each node, and new transactions enter as additions to subsequent blocks from the block proposer's mempool. A consensus is eventually reached, after which the transaction information is reconciled. Payments between users of a blockchain using this transaction system represent a fully decentralized exchange system. We refer to this system as the peer-to-peer (P2P) market.\n",
    "\n",
    "In addition to the consensus mechanism, many blockchains allow *smart contracts*, which are a hybrid of distributed and centralized exchange institutions. *Smart contracts* are computer programs that run on the blockchain, being executed on the nodes' Virtual Machine (VM) as part of the block proposal, and whose states are maintained at the node as part of the blockchain ledger. They are decentralized in the sense that agents can interact with any node to interact with the smart contract, but they are centralized in the sense that their state is maintained identically across all nodes. Automated Market Makers (AMMs) are a special type of smart contract that allows users to trade tokens on a blockchain, facilitating an exchange between two tokens without the need for a counterparty match. Additionally, AMMs have a defined price schedule, provided by an exchange function, and a potential trade volume, provided by the liquidity depth.\n",
    "\n",
    "We are interested in comparing price discovery in pure P2P and AMM markets, as well as in combination markets where users can access both."
   ]
  },
  {
   "cell_type": "markdown",
   "id": "3f653a40-f5f3-43b7-b3d5-e6db6fa013e8",
   "metadata": {},
   "source": [
    "## Treatments - General Discussion\n",
    "\n",
    "We will consider two series of four experimental designs.  In the first series of experiments, subjects trade a native token with a fundamental value (V) for USDC, which has a fundamental value of $1.  \n",
    "\n",
    "The first experiment, called INTERNAL PRICE DISCOVERY, compares price discovery in the different markets.  There are two treatment variables: Market Institutions and Fundamental Values. \n",
    "\n",
    "1. MARKET INSTITUTION:  (1) P2P, (2) AMM, (3) P2P & AMM. Individuals will either have access to the P2P trading system, the AMM trading system, or both P2P and AMM institutions (three treatment conditions).\n",
    "\n",
    "2. FUNDAMENTAL VALUE: (1) CONSTANT or (2) CHANGING.  The native token has a fundamental value V.  Traders have private information on this value.  In the CONSTANT treatment condition, the value V does not change. In the CHANGING treatment condition, the fundamental value changes according to a schedule set by the experimenter.\n",
    "\n",
    "A second experiment, called LIQUIDITY PROVISION, will introduce liquidity providers into the AMM in our market.  In this experiment, we will use the same MARKET INSTITUTION and FUNDAMENTAL VALUE treatments as the INTERNAL PRICE DISCOVERY experiment. This will add a third treatment called LIQUIDITY PROVIDERS.   \n",
    "\n",
    "3. LIQUIDITY PROVIDER: (1) NONE, (2) AUTOMATED, (3) HUMAN.  In the AUTOMATED treatment condition, a programmed agent decides how much liquidity to provide to the AMM. The HUMAN treatment is complicated by deciding what specialized information and trading features the HUMAN UI should have.\n",
    "\n",
    "A third experiment, called EXTERNAL PRICE DISCOVERY,  will introduce an external DA market where traders can exchange Native Coins for US Currency.  A trusted intermediary runs the market and completes the transactions on the blockchain.  In this experiment, we will use the same MARKET INSTITUTION and FUNDAMENTAL VALUE treatments as the INTERNAL PRICE DISCOVERY experiment.  This will add a fourth treatment called ARBITRAGE AGENTS.\n",
    "\n",
    "4. ARBITRAGE AGENT: (1) NONE, (2) AUTOMATED, (3) HUMAN.  In the AUTOMATED treatment condition, a programmed agent tries to make arbitrage profits by trading on the different internal and external markets.  The HUMAN treatment is complicated by deciding what specialized information and trading features the HUMAN UI should have.\n",
    "\n",
    "A fourth experiment, called  FULL DISCOVERY, will use the FUNDAMENTAL VALUE treatment.  The P2P & AMM condition will be used from the MARKET INSTITUTION treatment, and the AUTOMATED conditions will be used from  LIQUIDITY PROVIDERS and ARBITRAGE AGENT treatments.\n",
    "\n",
    "In the second series of experiments, subjects trade a native token with a fundamental value (V), a second token with a fundamental value (W), and USDC, which has a fundamental value of $1.  \n",
    "\n",
    "\n"
   ]
  },
  {
   "cell_type": "markdown",
   "id": "c248bba3-3f6d-422a-9a77-f285c9691a5c",
   "metadata": {},
   "source": [
    "## Microeconomic System for our Experiment\n",
    "\n",
    "We will divide our discussion of the Microeconomic System into the enviornment and the institutions. "
   ]
  },
  {
   "cell_type": "markdown",
   "id": "0eced0ed-2a11-45ae-b6e2-25611a75da7e",
   "metadata": {},
   "source": [
    "### The Environment\n",
    "\n",
    "The Environment consists of the Agents, the Assets, the Nodes in the system, and the Blockchain Mining Rigs.\n",
    "\n",
    "#### Agents\n",
    "Agents, $k \\in K$, own and operate nodes.  To keep the experiment simple all of these nodes are full nodes with equal stakes in the proof of stake mining protocol.  What this means is that each time interval, with equal probability, the agents node will be chosen to mine a block and the agents account will be rewarded.  A block is a collection of transactions from the agents mempool.  For now we assume no congestion meaning the mempool is cleared. \n",
    "\n",
    "Agents own assets.  There are three assets in the market:  (1) Native Tokens ($V$), (2) USDC (wrapped dollars), and (3) Liquidity Tokens. Agents wallets show their current asset holdings and allows agents to make transactions.\n",
    "\n",
    "##### Payoff\n",
    "Agents have a utility function U(m) which increases in US currency m.  At the end of the experiment Liquidity Tokens are redeemed from the liquidity pool and the agent USDC is converted to $m_1$. All of the Native Tokens are converted to $m_2$ at the termination exchange value $v_{S}$.  The agent then earns a payoff of $E = (m_1 + m_2)$.\n",
    "\n",
    "##### Agent Types\n",
    "There are two types of agents: Group A: those that can trade in the P2P market; and Group B: those that can provide liquidity in the AMM. Both of the groups can trade on the AMM. Group B may be computerized (treatment variable).\n",
    "\n",
    "#### Cryptocurrency Asset\n",
    "There is a cryptocurrency asset, V, which is the native token of the blockchain. It is used to pay the block miners for block proposition and is used to pay transaction fees on the blockchain. There is a true, external value of V, $v_{s}$ which may change with block number (time). At the terminal block, ${S}$, the cryptocurrency assets are redeemed for their value $v_{S}$.\n",
    "\n",
    "##### Signals\n",
    "Agents receive private information about V consisting of a draw $v_{ks} \\in [v-x, v+x]$, where s denotes some interval in multiples of blocks.  Agents have public information which is the ledger transactions, and semi-public information which is the offers made in their mempool.  For now we assume the whisper network is very quick and everyone's mempool is the same.\n",
    "\n",
    "#### Cash Asset\n",
    "The cash asset is an on-chain wrapped stablecoin, such as USDC, which the agents can use in the P2P and AMM mechanisms to trade. USDC also earns a $3%$ interest rate block-to-block on the individual's unlocked balance of USDC.\n",
    "\n",
    "#### Nodes and Blockchain Mining Rigs\n",
    "Nodes are owned by Agents, with each agent owning one node, and each node containing a mempool. We assume the whisper network is essentially instantaneous, so mempools across nodes are updated simultaneously. Nodes are equivalent in power and computational effect, so they are assigned with equal probability to propose blocks. \n",
    "\n",
    "#### Transaction Costs\n",
    "\n",
    "##### Environment Sequence\n",
    "An experiment / simulation begins by initializing the environment, institutions, and agents. Agents interact with each other only through institutions, in particular trading through the P2P and AMM institutions."
   ]
  },
  {
   "cell_type": "markdown",
   "id": "b4a1889d-c685-4ac7-9562-d08d7c61a156",
   "metadata": {},
   "source": [
    "### Institutions\n",
    "\n",
    "#### Peer-to-Peer (P2P) Exchange\n",
    "A P2P institution is a smart contract which allows a buy or sell offer of the form ('BUY', n, p, d, c) where n is the number of Native Tokens being bought, p is the price per token the buyer is willing to pay, d is the expiration date expressed as a future block number, and c is a condition of trade which is either c = partial, or full, where partial allows partial fulfillment.  The buyer signs and submits the contract as a transaction together with a  p*n USDC payment transaction to the smart-contract account, and a payment g to the blockchain account in the Native Token for gas fees.\n",
    "\n",
    "#### Automated Market Maker (AMM)\n",
    "\n",
    "1. One of our treatments will compare price discovery in the P2P payment system where agents write simple smart-contracts the serve as offers to buy and sell from one another, compared to a AMM market.  So for example, in the P2P system an agent may offer to buy 20 tokens at a price of .085 USDC in a smart contract with the USDC locked for the duration of the offer.  Another agent may except the offer by lockcing in the tokens, creating the condition for the contract to execute on the blockchain.  AMMs serve as distiributed centralized institutions where liquidity providers provide tokens and USDC to the AMM in return for a share of transaction fees and liquidity tokens which can be redemmed at a later date.  Agents the trade with the AMM which uses a pricing rule to determine currrent trading prices.\n",
    "3. A third treatment \n",
    "Other treatments will be discussed in class."
   ]
  },
  {
   "cell_type": "code",
   "execution_count": null,
   "id": "892945b7-1637-4b1d-ab38-819525fdb42f",
   "metadata": {},
   "outputs": [],
   "source": [
    " "
   ]
  }
 ],
 "metadata": {
  "kernelspec": {
   "display_name": "Python 3 (ipykernel)",
   "language": "python",
   "name": "python3"
  },
  "language_info": {
   "codemirror_mode": {
    "name": "ipython",
    "version": 3
   },
   "file_extension": ".py",
   "mimetype": "text/x-python",
   "name": "python",
   "nbconvert_exporter": "python",
   "pygments_lexer": "ipython3",
   "version": "3.12.7"
  }
 },
 "nbformat": 4,
 "nbformat_minor": 5
}
